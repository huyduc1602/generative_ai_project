{
 "cells": [
  {
   "cell_type": "markdown",
   "metadata": {},
   "source": [
    "# Generative AI Model Exploration\n",
    "\n",
    "This notebook demonstrates how to use the generative AI model for text generation. It covers loading a trained model, generating text, and visualizing results."
   ]
  },
  {
   "cell_type": "code",
   "execution_count": null,
   "metadata": {},
   "source": [
    "import sys\n",
    "import os\n",
    "import torch\n",
    "import yaml\n",
    "import matplotlib.pyplot as plt\n",
    "import numpy as np\n",
    "from transformers import AutoTokenizer\n",
    "\n",
    "# Add the project root directory to the Python path\n",
    "sys.path.append(os.path.abspath('..'))\n",
    "\n",
    "from src.models.model import GenerativeModel\n",
    "from src.inference.predict import generate_text"
   ]
  },
  {
   "cell_type": "markdown",
   "metadata": {},
   "source": [
    "## Load Configuration"
   ]
  },
  {
   "cell_type": "code",
   "execution_count": null,
   "metadata": {},
   "source": [
    "def load_config(config_path):\n",
    "    \"\"\"Load configuration from YAML file.\"\"\"\n",
    "    with open(config_path, 'r') as f:\n",
    "        config = yaml.safe_load(f)\n",
    "    return config\n",
    "\n",
    "# Load model configuration\n",
    "model_config = load_config('../configs/model_config.yaml')\n",
    "model_config"
   ]
  },
  {
   "cell_type": "markdown",
   "metadata": {},
   "source": [
    "## Initialize Model\n",
    "\n",
    "Here we'll initialize the model from a trained checkpoint. If no checkpoint is available, we'll initialize a new model from the configuration."
   ]
  },
  {
   "cell_type": "code",
   "execution_count": null,
   "metadata": {},
   "source": [
    "def load_model(model_path=None):\n",
    "    \"\"\"Load a trained model from checkpoint or initialize a new model.\"\"\"\n",
    "    model = GenerativeModel(model_config)\n",
    "    \n",
    "    if model_path and os.path.exists(model_path):\n",
    "        print(f\"Loading model from {model_path}\")\n",
    "        checkpoint = torch.load(model_path, map_location=torch.device('cpu'))\n",
    "        model.load_state_dict(checkpoint['model_state_dict'])\n",
    "    else:\n",
    "        print(\"Initializing new model from configuration\")\n",
    "    \n",
    "    return model\n",
    "\n",
    "# Try to load a trained model or initialize a new one\n",
    "model_path = '../models/model_final.pt'  # Update this path to your model\n",
    "model = load_model(model_path if os.path.exists(model_path) else None)\n",
    "\n",
    "# Initialize tokenizer\n",
    "tokenizer = AutoTokenizer.from_pretrained(model_config[\"model_name\"])\n",
    "\n",
    "# Set device\n",
    "device = torch.device(\"cuda\" if torch.cuda.is_available() else \"cpu\")\n",
    "print(f\"Using device: {device}\")\n",
    "model.to(device);"
   ]
  },
  {
   "cell_type": "markdown",
   "metadata": {},
   "source": [
    "## Text Generation\n",
    "\n",
    "Now let's generate some text using the model."
   ]
  },
  {
   "cell_type": "code",
   "execution_count": null,
   "metadata": {},
   "source": [
    "def generate(input_text, max_length=100, temperature=0.8, top_k=50, top_p=0.95):\n",
    "    \"\"\"Generate text based on input.\"\"\"\n",
    "    generated_text = generate_text(\n",
    "        model,\n",
    "        tokenizer,\n",
    "        input_text,\n",
    "        max_length=max_length,\n",
    "        temperature=temperature,\n",
    "        top_k=top_k,\n",
    "        top_p=top_p,\n",
    "    )\n",
    "    return generated_text\n",
    "\n",
    "# Example input text\n",
    "input_text = \"The future of artificial intelligence is\"\n",
    "\n",
    "# Generate text\n",
    "generated_text = generate(input_text)\n",
    "print(f\"Generated text:\\n{generated_text}\")"
   ]
  },
  {
   "cell_type": "markdown",
   "metadata": {},
   "source": [
    "## Experimenting with Generation Parameters\n",
    "\n",
    "Let's experiment with different generation parameters to see how they affect the output."
   ]
  },
  {
   "cell_type": "code",
   "execution_count": null,
   "metadata": {},
   "source": [
    "# Test different temperatures\n",
    "temperatures = [0.5, 0.7, 0.9, 1.2]\n",
    "results = []\n",
    "\n",
    "for temp in temperatures:\n",
    "    generated = generate(input_text, temperature=temp)\n",
    "    results.append(generated)\n",
    "    print(f\"\\nTemperature: {temp}\")\n",
    "    print(f\"Generated text: {generated}\")"
   ]
  },
  {
   "cell_type": "markdown",
   "metadata": {},
   "source": [
    "## Visualizing Token Probabilities\n",
    "\n",
    "Let's visualize the probability distribution for the next token in a sequence."
   ]
  },
  {
   "cell_type": "code",
   "execution_count": null,
   "metadata": {},
   "source": [
    "def get_next_token_probabilities(input_text, top_n=10):\n",
    "    \"\"\"Get probability distribution for the next token.\"\"\"\n",
    "    # Encode input text\n",
    "    inputs = tokenizer(input_text, return_tensors=\"pt\")\n",
    "    inputs = {k: v.to(device) for k, v in inputs.items()}\n",
    "    \n",
    "    # Get model outputs\n",
    "    with torch.no_grad():\n",
    "        outputs = model.model(input_ids=inputs[\"input_ids\"], attention_mask=inputs[\"attention_mask\"])\n",
    "    \n",
    "    # Get logits for the last position\n",
    "    next_token_logits = outputs.logits[0, -1, :]\n",
    "    \n",
    "    # Apply softmax to get probabilities\n",
    "    next_token_probs = torch.softmax(next_token_logits, dim=0)\n",
    "    \n",
    "    # Get top tokens and their probabilities\n",
    "    topk_probs, topk_indices = torch.topk(next_token_probs, top_n)\n",
    "    \n",
    "    # Convert to words\n",
    "    topk_tokens = [tokenizer.decode([idx.item()]).strip() for idx in topk_indices]\n",
    "    \n",
    "    return topk_tokens, topk_probs.cpu().numpy()\n",
    "\n",
    "# Get next token probabilities\n",
    "tokens, probs = get_next_token_probabilities(input_text)\n",
    "\n",
    "# Plot probabilities\n",
    "plt.figure(figsize=(10, 6))\n",
    "plt.bar(tokens, probs)\n",
    "plt.title(f'Next token probabilities for: \"{input_text}\"')\n",
    "plt.xlabel('Token')\n",
    "plt.ylabel('Probability')\n",
    "plt.xticks(rotation=45)\n",
    "plt.tight_layout()\n",
    "plt.show()"
   ]
  },
  {
   "cell_type": "markdown",
   "metadata": {},
   "source": [
    "## Conclusion\n",
    "\n",
    "This notebook demonstrated how to use the generative AI model for text generation and how to experiment with different generation parameters. Further explorations could include fine-tuning the model on specific domains or testing different decoding strategies."
   ]
  }
 ],
 "metadata": {
  "kernelspec": {
   "display_name": "Python 3",
   "language": "python",
   "name": "python3"
  },
  "language_info": {
   "codemirror_mode": {
    "name": "ipython",
    "version": 3
   },
   "file_extension": ".py",
   "mimetype": "text/x-python",
   "name": "python",
   "nbconvert_exporter": "python",
   "pygments_lexer": "ipython3",
   "version": "3.8.10"
  }
 },
 "nbformat": 4,
 "nbformat_minor": 4
}
